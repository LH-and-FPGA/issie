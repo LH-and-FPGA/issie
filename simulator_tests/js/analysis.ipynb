{
 "cells": [
  {
   "cell_type": "code",
   "execution_count": null,
   "metadata": {},
   "outputs": [],
   "source": [
    "import pandas as pd\n",
    "import matplotlib.pyplot as plt"
   ]
  },
  {
   "cell_type": "code",
   "execution_count": null,
   "metadata": {},
   "outputs": [],
   "source": [
    "geometric_mean = lambda x: (x.prod())**(1.0/len(x))"
   ]
  },
  {
   "attachments": {},
   "cell_type": "markdown",
   "metadata": {},
   "source": [
    "##### Baseline "
   ]
  },
  {
   "cell_type": "code",
   "execution_count": null,
   "metadata": {},
   "outputs": [],
   "source": [
    "speed_baseline = pd.read_csv(\"baseline.csv\", usecols=[6])[:].values\n",
    "speed_baseline_gm = geometric_mean(speed_baseline)\n",
    "display(speed_baseline_gm)"
   ]
  },
  {
   "attachments": {},
   "cell_type": "markdown",
   "metadata": {},
   "source": [
    "##### Optimized versions"
   ]
  },
  {
   "cell_type": "code",
   "execution_count": null,
   "metadata": {},
   "outputs": [],
   "source": [
    "speed_v1 = pd.read_csv(\"version1.csv\", usecols=[6])[:].values\n",
    "speed_v1_gm = geometric_mean(speed_v1)\n",
    "display(speed_v1_gm)"
   ]
  },
  {
   "cell_type": "code",
   "execution_count": null,
   "metadata": {},
   "outputs": [],
   "source": [
    "speed_v2 = pd.read_csv(\"~/version2.csv\", usecols=[6])[:].values\n",
    "speed_v2_gm = geometric_mean(speed_v2)\n",
    "display(speed_v2_gm)"
   ]
  },
  {
   "cell_type": "code",
   "execution_count": null,
   "metadata": {},
   "outputs": [],
   "source": [
    "v1_speed_up = speed_v1_gm / speed_baseline_gm\n",
    "display(v1_speed_up)\n",
    "\n",
    "v2_speed_up = speed_v2_gm / speed_baseline_gm\n",
    "display(v2_speed_up)"
   ]
  }
 ],
 "metadata": {
  "kernelspec": {
   "display_name": "Python 3",
   "language": "python",
   "name": "python3"
  },
  "language_info": {
   "codemirror_mode": {
    "name": "ipython",
    "version": 3
   },
   "file_extension": ".py",
   "mimetype": "text/x-python",
   "name": "python",
   "nbconvert_exporter": "python",
   "pygments_lexer": "ipython3",
   "version": "3.10.10"
  },
  "orig_nbformat": 4
 },
 "nbformat": 4,
 "nbformat_minor": 2
}
